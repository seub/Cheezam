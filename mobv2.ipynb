{
 "cells": [
  {
   "cell_type": "markdown",
   "metadata": {
    "id": "FE7KNzPPVrVV"
   },
   "source": [
    "# Image classification: French cheeses"
   ]
  },
  {
   "cell_type": "markdown",
   "metadata": {
    "id": "zF9uvbXNVrVY"
   },
   "source": [
    "## Import TensorFlow and other libraries"
   ]
  },
  {
   "cell_type": "code",
   "execution_count": null,
   "metadata": {
    "execution": {
     "iopub.execute_input": "2021-10-26T01:28:12.934664Z",
     "iopub.status.busy": "2021-10-26T01:28:12.934088Z",
     "iopub.status.idle": "2021-10-26T01:28:14.628166Z",
     "shell.execute_reply": "2021-10-26T01:28:14.627600Z"
    },
    "id": "L1WtoaOHVrVh"
   },
   "outputs": [],
   "source": [
    "import inspect\n",
    "import matplotlib.pyplot as plt\n",
    "import numpy as np\n",
    "# import os\n",
    "import pathlib\n",
    "import pickle\n",
    "# import PIL\n",
    "import tensorflow as tf\n",
    "from tensorflow import keras\n",
    "from tensorflow.keras import layers\n",
    "from tensorflow.keras.models import Sequential"
   ]
  },
  {
   "cell_type": "markdown",
   "metadata": {
    "id": "UZZI6lNkVrVm"
   },
   "source": [
    "## Import dataset"
   ]
  },
  {
   "cell_type": "markdown",
   "metadata": {
    "id": "DPHx8-t-VrVo"
   },
   "source": [
    "In this notebook we use the dataset ```auto_dataset_cleaned```, which uses a script to automatically download images from the internet, that are then checked manually.\n"
   ]
  },
  {
   "cell_type": "code",
   "execution_count": null,
   "metadata": {
    "execution": {
     "iopub.execute_input": "2021-10-26T01:28:14.633641Z",
     "iopub.status.busy": "2021-10-26T01:28:14.632652Z",
     "iopub.status.idle": "2021-10-26T01:28:26.151609Z",
     "shell.execute_reply": "2021-10-26T01:28:26.152150Z"
    },
    "id": "57CcilYSG0zv"
   },
   "outputs": [],
   "source": [
    "# Retrieve dataset\n",
    "dataset_url = \"https://github.com/seub/Cheezam/raw/main/data/cheese_photos_easy.tar.gz\"\n",
    "data_dir = tf.keras.utils.get_file('cheese_photos_easy', origin=dataset_url, untar=True)\n",
    "data_dir = pathlib.Path(data_dir)\n",
    "print(f'The data_dir is: {data_dir}')\n",
    "image_count = len(list(data_dir.glob('*/*.jpg'))) + len(list(data_dir.glob('*/*.jpeg')))\n",
    "print(f'Found {image_count} jpg and jpeg images.')"
   ]
  },
  {
   "cell_type": "markdown",
   "metadata": {
    "id": "xyDNn9MbIzfT"
   },
   "source": [
    "## Create a tf.keras dataset"
   ]
  },
  {
   "cell_type": "code",
   "execution_count": null,
   "metadata": {
    "execution": {
     "iopub.execute_input": "2021-10-26T01:28:26.428100Z",
     "iopub.status.busy": "2021-10-26T01:28:26.427514Z",
     "iopub.status.idle": "2021-10-26T01:28:26.429126Z",
     "shell.execute_reply": "2021-10-26T01:28:26.429494Z"
    },
    "id": "H74l2DoDI2XD"
   },
   "outputs": [],
   "source": [
    "batch_size = 32\n",
    "img_height = 224\n",
    "img_width = 224\n",
    "input_shape = (img_height, img_width, 3)\n",
    "\n",
    "train_ds = tf.keras.utils.image_dataset_from_directory(\n",
    "  data_dir,\n",
    "  validation_split=0.1,\n",
    "  subset=\"training\",\n",
    "  seed=123,\n",
    "  image_size=(img_height, img_width),\n",
    "  batch_size=batch_size)\n",
    "\n",
    "val_ds = tf.keras.utils.image_dataset_from_directory(\n",
    "  data_dir,\n",
    "  validation_split=0.1,\n",
    "  subset=\"validation\",\n",
    "  seed=123,\n",
    "  image_size=(img_height, img_width),\n",
    "  batch_size=batch_size)\n",
    "\n",
    "class_names = train_ds.class_names\n",
    "num_classes = len(class_names)\n",
    "print(f\"Class names: {class_names}\")"
   ]
  },
  {
   "cell_type": "markdown",
   "metadata": {
    "id": "4Dr0at41KcAU"
   },
   "source": [
    "## Configure the dataset for performance"
   ]
  },
  {
   "cell_type": "code",
   "execution_count": null,
   "metadata": {
    "execution": {
     "iopub.execute_input": "2021-10-26T01:28:29.157314Z",
     "iopub.status.busy": "2021-10-26T01:28:29.156653Z",
     "iopub.status.idle": "2021-10-26T01:28:29.160541Z",
     "shell.execute_reply": "2021-10-26T01:28:29.160912Z"
    },
    "id": "nOjJSm7DKoZA"
   },
   "outputs": [],
   "source": [
    "AUTOTUNE = tf.data.AUTOTUNE\n",
    "\n",
    "train_ds = train_ds.cache().shuffle(1000).prefetch(buffer_size=AUTOTUNE)\n",
    "val_ds = val_ds.cache().prefetch(buffer_size=AUTOTUNE)"
   ]
  },
  {
   "cell_type": "markdown",
   "metadata": {
    "id": "WcUTyDOPKucd"
   },
   "source": [
    "## Create the model"
   ]
  },
  {
   "cell_type": "code",
   "execution_count": null,
   "metadata": {
    "execution": {
     "iopub.execute_input": "2021-10-26T01:28:42.522271Z",
     "iopub.status.busy": "2021-10-26T01:28:42.521677Z",
     "iopub.status.idle": "2021-10-26T01:28:42.637270Z",
     "shell.execute_reply": "2021-10-26T01:28:42.637709Z"
    },
    "id": "9J80BAbIMs21"
   },
   "outputs": [],
   "source": [
    "data_augmentation = keras.Sequential(\n",
    "  [\n",
    "    layers.RandomRotation(0.1, fill_mode='constant', input_shape=input_shape),\n",
    "    layers.RandomZoom(0.1, fill_mode='constant'),\n",
    "    layers.RandomTranslation(height_factor=0.1, width_factor=0.1, fill_mode='constant')\n",
    "    #layers.RandomFlip(\"horizontal\")\n",
    "  ])"
   ]
  },
  {
   "cell_type": "markdown",
   "metadata": {},
   "source": [
    "## Visualize data sample"
   ]
  },
  {
   "cell_type": "code",
   "execution_count": null,
   "metadata": {},
   "outputs": [],
   "source": [
    "plt.figure(figsize=(10, 10))\n",
    "for images, labels in train_ds.take(1):\n",
    "  for i in range(9):\n",
    "    ax = plt.subplot(3, 3, i + 1)\n",
    "    img = images[i]\n",
    "    img_aug = data_augmentation(np.expand_dims(img, axis=0))[0]\n",
    "    plt.imshow(img_aug.numpy().astype(\"uint8\"))\n",
    "    plt.title(class_names[labels[i]])\n",
    "    plt.axis(\"off\")"
   ]
  },
  {
   "cell_type": "markdown",
   "metadata": {},
   "source": [
    "## Import MobileV2 model from Keras"
   ]
  },
  {
   "cell_type": "code",
   "execution_count": null,
   "metadata": {},
   "outputs": [],
   "source": [
    "model_dictionary = {m[0]:m[1] for m in inspect.getmembers(tf.keras.applications, inspect.isfunction)}\n",
    "#print(model_dictionary.keys())\n",
    "model_func = model_dictionary['MobileNetV2']\n",
    "base_model = model_func(include_top=False, pooling='avg', input_shape=input_shape, weights = 'imagenet')\n",
    "base_model.trainable = False\n",
    "print(f\"Pre-trained MobileV2 model imported from Keras.\")\n",
    "model = tf.keras.models.Sequential()\n",
    "model.add(base_model)\n",
    "model.add(tf.keras.layers.Dense(128, activation='relu'))\n",
    "model.add(tf.keras.layers.Dense(num_classes))\n",
    "model.compile(optimizer='adam', loss=tf.losses.SparseCategoricalCrossentropy(from_logits=True), metrics=['accuracy'])\n",
    "print(f\"Added two dense layers to model.\")\n",
    "model.summary()"
   ]
  },
  {
   "cell_type": "code",
   "execution_count": 54,
   "metadata": {},
   "outputs": [],
   "source": [
    "class timecallback(tf.keras.callbacks.Callback):\n",
    "    def __init__(self):\n",
    "        self.times = []\n",
    "        self.time_begin = time.perf_counter()\n",
    "    def on_epoch_end(self,epoch,logs = {}):\n",
    "        self.time_end = time.perf_counter()\n",
    "        self.times.append(self.time_end - self.time_begin)\n",
    "        self.time_begin = self.time_end\n",
    "    def on_train_end(self,logs = {}):\n",
    "        plt.xlabel('Epoch')\n",
    "        plt.ylabel('Time')\n",
    "        xticks = range(1, 1+len(self.times))\n",
    "        plt.xticks(xticks)\n",
    "        plt.plot(xticks, self.times)\n",
    "        plt.ylim(bottom=0)\n",
    "        plt.savefig('epochs_time.png')\n",
    "        plt.show()"
   ]
  },
  {
   "cell_type": "code",
   "execution_count": null,
   "metadata": {
    "execution": {
     "iopub.execute_input": "2021-10-26T01:28:43.216138Z",
     "iopub.status.busy": "2021-10-26T01:28:43.215542Z",
     "iopub.status.idle": "2021-10-26T01:28:43.359819Z",
     "shell.execute_reply": "2021-10-26T01:28:43.360228Z"
    },
    "id": "2Zeg8zsqXCsm"
   },
   "outputs": [],
   "source": [
    "def update_history(reset, history, model_path, epochs):\n",
    "  model_path.mkdir(parents=False, exist_ok=True)\n",
    "  history_path = model_path / 'training_history'\n",
    "  if reset or (not history_path.is_file()):\n",
    "    training_history = {'acc':[], 'val_acc':[], 'loss':[], 'val_loss':[], 'epochs':0}\n",
    "  else:\n",
    "    training_history = pickle.load(open(history_path, 'rb'))\n",
    "  training_history['acc'] += history.history['accuracy']\n",
    "  training_history['val_acc'] += history.history['val_accuracy']\n",
    "  training_history['loss'] += history.history['loss']\n",
    "  training_history['val_loss'] += history.history['val_loss']\n",
    "  training_history['epochs'] += epochs\n",
    "  with open(history_path, 'wb') as file_pi:\n",
    "    pickle.dump(training_history, file_pi)\n",
    "  return training_history"
   ]
  },
  {
   "cell_type": "code",
   "execution_count": null,
   "metadata": {
    "execution": {
     "iopub.execute_input": "2021-10-26T01:28:43.383520Z",
     "iopub.status.busy": "2021-10-26T01:28:43.382812Z",
     "iopub.status.idle": "2021-10-26T01:28:59.551231Z",
     "shell.execute_reply": "2021-10-26T01:28:59.551643Z"
    },
    "id": "LWS-vvNaZDag"
   },
   "outputs": [],
   "source": [
    "epochs = 1\n",
    "model_path = pathlib.Path.home() / '.keras/models/MobileV2'\n",
    "reset = True\n",
    "if reset==False:\n",
    "  assert model_path.is_dir()\n",
    "\n",
    "timetaken = timecallback()\n",
    "history = model.fit(train_ds, validation_data=val_ds, epochs=epochs, callbacks=[timetaken])\n",
    "training_history = update_history(reset=reset, history=history, model_path=model_path, epochs=epochs)"
   ]
  },
  {
   "cell_type": "code",
   "execution_count": 55,
   "metadata": {},
   "outputs": [
    {
     "name": "stdout",
     "output_type": "stream",
     "text": [
      "Epoch 1/3\n",
      "5/5 [==============================] - 3s 633ms/step - loss: 0.0410 - accuracy: 1.0000 - val_loss: 1.3759 - val_accuracy: 0.6237\n",
      "Epoch 2/3\n",
      "5/5 [==============================] - 3s 691ms/step - loss: 0.0469 - accuracy: 1.0000 - val_loss: 1.4061 - val_accuracy: 0.6075\n",
      "Epoch 3/3\n",
      "5/5 [==============================] - 3s 702ms/step - loss: 0.0534 - accuracy: 1.0000 - val_loss: 1.2970 - val_accuracy: 0.6398\n"
     ]
    },
    {
     "data": {
      "image/png": "[encoded data removed]",
      "text/plain": [
       "<Figure size 432x288 with 1 Axes>"
      ]
     },
     "metadata": {
      "needs_background": "light"
     },
     "output_type": "display_data"
    }
   ],
   "source": [
    "import time\n",
    "epochs = 3\n",
    "reset = False\n",
    "if reset==False:\n",
    "  assert model_path.is_dir()\n",
    "\n",
    "timetaken = timecallback()\n",
    "history = model.fit(train_ds, validation_data=val_ds, epochs=epochs, callbacks=[timetaken], steps_per_epoch=5)\n",
    "training_history = update_history(reset=reset, history=history, model_path=model_path, epochs=epochs)"
   ]
  },
  {
   "cell_type": "markdown",
   "metadata": {
    "id": "Lkdl8VsBbZOu"
   },
   "source": [
    "## Visualize training results"
   ]
  },
  {
   "cell_type": "code",
   "execution_count": null,
   "metadata": {
    "execution": {
     "iopub.execute_input": "2021-10-26T01:28:59.594843Z",
     "iopub.status.busy": "2021-10-26T01:28:59.572099Z",
     "iopub.status.idle": "2021-10-26T01:28:59.808391Z",
     "shell.execute_reply": "2021-10-26T01:28:59.808800Z"
    },
    "id": "dduoLfKsZVIA"
   },
   "outputs": [],
   "source": [
    "def visualize_training(training_history):\n",
    "    epochs_range = range(1, 1+training_history['epochs'])\n",
    "\n",
    "    plt.figure(figsize=(10, 10))\n",
    "    plt.subplot(1, 2, 1)\n",
    "    plt.plot(epochs_range, training_history['acc'], label='Training Accuracy')\n",
    "    plt.plot(epochs_range, training_history['val_acc'], label='Validation Accuracy')\n",
    "    plt.legend(loc='lower right')\n",
    "    plt.title('Training and Validation Accuracy')\n",
    "\n",
    "    plt.subplot(1, 2, 2)\n",
    "    plt.plot(epochs_range, training_history['loss'], label='Training Loss')\n",
    "    plt.plot(epochs_range, training_history['val_loss'], label='Validation Loss')\n",
    "    plt.legend(loc='upper right')\n",
    "    plt.title('Training and Validation Loss')\n",
    "    plt.savefig('output/training_history.png')\n",
    "    plt.show()\n",
    "visualize_training(training_history)"
   ]
  },
  {
   "cell_type": "markdown",
   "metadata": {
    "id": "dtv5VbaVb-3W"
   },
   "source": [
    "## Predict on new data"
   ]
  },
  {
   "cell_type": "code",
   "execution_count": null,
   "metadata": {},
   "outputs": [],
   "source": [
    "from IPython.display import display\n",
    "\n",
    "def cheezam(filepath : str):\n",
    "    img = tf.keras.utils.load_img(filepath, target_size=(img_height, img_width))\n",
    "    img_array = tf.keras.utils.img_to_array(img)\n",
    "    img_array = tf.expand_dims(img_array, 0) # Create a batch\n",
    "\n",
    "    predictions = model.predict(img_array)\n",
    "    score = tf.nn.softmax(predictions[0])\n",
    "\n",
    "    display( PIL.Image.open(filepath).resize((img_height, img_width)) )\n",
    "\n",
    "    print(\n",
    "    \"This cheese is most likely a {} with a {:.2f} percent confidence.\"\n",
    "    .format(class_names[np.argmax(score)], 100 * np.max(score)))\n",
    "\n",
    "    "
   ]
  },
  {
   "cell_type": "code",
   "execution_count": null,
   "metadata": {
    "execution": {
     "iopub.execute_input": "2021-10-26T01:28:59.815147Z",
     "iopub.status.busy": "2021-10-26T01:28:59.814502Z",
     "iopub.status.idle": "2021-10-26T01:29:00.126068Z",
     "shell.execute_reply": "2021-10-26T01:29:00.126427Z"
    },
    "id": "dC40sRITBSsQ"
   },
   "outputs": [],
   "source": [
    "import random\n",
    "import PIL\n",
    "test_dir = pathlib.Path('data/sample_dataset')\n",
    "test_paths_total = list(test_dir.glob('*/*.jpg'))\n",
    "nb_test, nb_test_total = 10, len(test_paths_total)\n",
    "test_paths = random.sample(test_paths_total, nb_test)\n",
    "print(len(test_paths))\n",
    "for test_path in test_paths:\n",
    "    cheezam(test_path)"
   ]
  }
 ],
 "metadata": {
  "accelerator": "GPU",
  "colab": {
   "collapsed_sections": [],
   "name": "classification.ipynb",
   "toc_visible": true
  },
  "interpreter": {
   "hash": "916dbcbb3f70747c44a77c7bcd40155683ae19c65e1c03b4aa3499c5328201f1"
  },
  "kernelspec": {
   "display_name": "Python 3.9.7 64-bit",
   "name": "python3"
  },
  "language_info": {
   "codemirror_mode": {
    "name": "ipython",
    "version": 3
   },
   "file_extension": ".py",
   "mimetype": "text/x-python",
   "name": "python",
   "nbconvert_exporter": "python",
   "pygments_lexer": "ipython3",
   "version": "3.9.7"
  }
 },
 "nbformat": 4,
 "nbformat_minor": 0
}
